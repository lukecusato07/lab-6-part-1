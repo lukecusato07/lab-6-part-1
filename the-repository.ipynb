name = input("What is your name?")
food = input("What is your favorite food?")
if food == 'peaches':
    print("Hello, " + name + "!  My favorite food is also peaches!")
else:
    print("Hello, " + name + "!  My favorite food is not " + food + ", but it is peaches!")
